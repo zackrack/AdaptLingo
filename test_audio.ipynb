{
 "cells": [
  {
   "cell_type": "code",
   "execution_count": null,
   "metadata": {},
   "outputs": [
    {
     "ename": "",
     "evalue": "",
     "output_type": "error",
     "traceback": [
      "\u001b[1;31mRunning cells with 'myenv (Python 3.10.14)' requires the ipykernel package.\n",
      "\u001b[1;31mRun the following command to install 'ipykernel' into the Python environment. \n",
      "\u001b[1;31mCommand: 'conda install -n myenv ipykernel --update-deps --force-reinstall'"
     ]
    }
   ],
   "source": [
    "import requests\n",
    "\n",
    "# Replace with the URL where your Flask app is running\n",
    "url = 'http://localhost:55203/chat'\n",
    "\n",
    "# Path to your sample audio file\n",
    "audio_file_path = 'static/audio/ES_SP_A1_17_11_14_MPS.wav'\n",
    "\n",
    "# Open the audio file in binary mode\n",
    "with open(audio_file_path, 'rb') as f:\n",
    "    files = {'audio': ('ES_SP_A1_17_11_14_MPS.wav', f, 'audio/wav')}\n",
    "    response = requests.post(url, files=files)\n",
    "\n",
    "# Check the response\n",
    "if response.status_code == 200:\n",
    "    data = response.json()\n",
    "    print(\"Assistant's response:\", data.get('message'))\n",
    "    print(\"Audio URL:\", data.get('audio_url'))\n",
    "    print(\"Praat Output:\")\n",
    "    print(data.get('praat_output'))\n",
    "else:\n",
    "    print(\"Request failed with status code:\", response.status_code)\n",
    "    print(\"Response:\", response.text)\n"
   ]
  },
  {
   "cell_type": "code",
   "execution_count": null,
   "metadata": {},
   "outputs": [],
   "source": []
  }
 ],
 "metadata": {
  "kernelspec": {
   "display_name": "myenv",
   "language": "python",
   "name": "python3"
  },
  "language_info": {
   "codemirror_mode": {
    "name": "ipython",
    "version": 3
   },
   "file_extension": ".py",
   "mimetype": "text/x-python",
   "name": "python",
   "nbconvert_exporter": "python",
   "pygments_lexer": "ipython3",
   "version": "3.10.14"
  }
 },
 "nbformat": 4,
 "nbformat_minor": 2
}
